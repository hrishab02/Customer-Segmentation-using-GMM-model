{
 "cells": [
  {
   "cell_type": "code",
   "execution_count": 1,
   "id": "27aee318",
   "metadata": {},
   "outputs": [],
   "source": [
    "import numpy as np\n",
    "import pandas as pd\n",
    "import datetime\n",
    "from datetime import date\n",
    "import matplotlib\n",
    "import seaborn as sns\n",
    "import matplotlib.pyplot as plt\n",
    "import plotly.graph_objects as go\n",
    "from sklearn.preprocessing import StandardScaler, normalize\n",
    "from sklearn import metrics\n",
    "from sklearn.mixture import GaussianMixture\n",
    "from mlxtend.frequent_patterns import apriori\n",
    "from mlxtend.frequent_patterns import association_rules\n",
    "import warnings\n",
    "warnings.filterwarnings('ignore')"
   ]
  },
  {
   "cell_type": "code",
   "execution_count": 2,
   "id": "735bf61e",
   "metadata": {},
   "outputs": [],
   "source": [
    "import os\n",
    "os.chdir('C:/Users/Mohan/Desktop/GRIET/1-Aug-2023/DS/Datasets')"
   ]
  },
  {
   "cell_type": "code",
   "execution_count": 3,
   "id": "d1cbaa6f",
   "metadata": {},
   "outputs": [],
   "source": [
    "df = pd.read_csv('marketing_campaign.csv')"
   ]
  },
  {
   "cell_type": "code",
   "execution_count": 4,
   "id": "8b3b68c1",
   "metadata": {},
   "outputs": [
    {
     "data": {
      "text/html": [
       "<div>\n",
       "<style scoped>\n",
       "    .dataframe tbody tr th:only-of-type {\n",
       "        vertical-align: middle;\n",
       "    }\n",
       "\n",
       "    .dataframe tbody tr th {\n",
       "        vertical-align: top;\n",
       "    }\n",
       "\n",
       "    .dataframe thead th {\n",
       "        text-align: right;\n",
       "    }\n",
       "</style>\n",
       "<table border=\"1\" class=\"dataframe\">\n",
       "  <thead>\n",
       "    <tr style=\"text-align: right;\">\n",
       "      <th></th>\n",
       "      <th>ID</th>\n",
       "      <th>Year_Birth</th>\n",
       "      <th>Education</th>\n",
       "      <th>Marital_Status</th>\n",
       "      <th>Income</th>\n",
       "      <th>Kidhome</th>\n",
       "      <th>Teenhome</th>\n",
       "      <th>Dt_Customer</th>\n",
       "      <th>Recency</th>\n",
       "      <th>MntWines</th>\n",
       "      <th>...</th>\n",
       "      <th>NumWebVisitsMonth</th>\n",
       "      <th>AcceptedCmp3</th>\n",
       "      <th>AcceptedCmp4</th>\n",
       "      <th>AcceptedCmp5</th>\n",
       "      <th>AcceptedCmp1</th>\n",
       "      <th>AcceptedCmp2</th>\n",
       "      <th>Complain</th>\n",
       "      <th>Z_CostContact</th>\n",
       "      <th>Z_Revenue</th>\n",
       "      <th>Response</th>\n",
       "    </tr>\n",
       "  </thead>\n",
       "  <tbody>\n",
       "    <tr>\n",
       "      <th>0</th>\n",
       "      <td>5524</td>\n",
       "      <td>1957</td>\n",
       "      <td>Graduation</td>\n",
       "      <td>Single</td>\n",
       "      <td>58138.0</td>\n",
       "      <td>0</td>\n",
       "      <td>0</td>\n",
       "      <td>04-09-2012</td>\n",
       "      <td>58</td>\n",
       "      <td>635</td>\n",
       "      <td>...</td>\n",
       "      <td>7</td>\n",
       "      <td>0</td>\n",
       "      <td>0</td>\n",
       "      <td>0</td>\n",
       "      <td>0</td>\n",
       "      <td>0</td>\n",
       "      <td>0</td>\n",
       "      <td>3</td>\n",
       "      <td>11</td>\n",
       "      <td>1</td>\n",
       "    </tr>\n",
       "    <tr>\n",
       "      <th>1</th>\n",
       "      <td>2174</td>\n",
       "      <td>1954</td>\n",
       "      <td>Graduation</td>\n",
       "      <td>Single</td>\n",
       "      <td>46344.0</td>\n",
       "      <td>1</td>\n",
       "      <td>1</td>\n",
       "      <td>08-03-2014</td>\n",
       "      <td>38</td>\n",
       "      <td>11</td>\n",
       "      <td>...</td>\n",
       "      <td>5</td>\n",
       "      <td>0</td>\n",
       "      <td>0</td>\n",
       "      <td>0</td>\n",
       "      <td>0</td>\n",
       "      <td>0</td>\n",
       "      <td>0</td>\n",
       "      <td>3</td>\n",
       "      <td>11</td>\n",
       "      <td>0</td>\n",
       "    </tr>\n",
       "    <tr>\n",
       "      <th>2</th>\n",
       "      <td>4141</td>\n",
       "      <td>1965</td>\n",
       "      <td>Graduation</td>\n",
       "      <td>Together</td>\n",
       "      <td>71613.0</td>\n",
       "      <td>0</td>\n",
       "      <td>0</td>\n",
       "      <td>21-08-2013</td>\n",
       "      <td>26</td>\n",
       "      <td>426</td>\n",
       "      <td>...</td>\n",
       "      <td>4</td>\n",
       "      <td>0</td>\n",
       "      <td>0</td>\n",
       "      <td>0</td>\n",
       "      <td>0</td>\n",
       "      <td>0</td>\n",
       "      <td>0</td>\n",
       "      <td>3</td>\n",
       "      <td>11</td>\n",
       "      <td>0</td>\n",
       "    </tr>\n",
       "    <tr>\n",
       "      <th>3</th>\n",
       "      <td>6182</td>\n",
       "      <td>1984</td>\n",
       "      <td>Graduation</td>\n",
       "      <td>Together</td>\n",
       "      <td>26646.0</td>\n",
       "      <td>1</td>\n",
       "      <td>0</td>\n",
       "      <td>10-02-2014</td>\n",
       "      <td>26</td>\n",
       "      <td>11</td>\n",
       "      <td>...</td>\n",
       "      <td>6</td>\n",
       "      <td>0</td>\n",
       "      <td>0</td>\n",
       "      <td>0</td>\n",
       "      <td>0</td>\n",
       "      <td>0</td>\n",
       "      <td>0</td>\n",
       "      <td>3</td>\n",
       "      <td>11</td>\n",
       "      <td>0</td>\n",
       "    </tr>\n",
       "    <tr>\n",
       "      <th>4</th>\n",
       "      <td>5324</td>\n",
       "      <td>1981</td>\n",
       "      <td>PhD</td>\n",
       "      <td>Married</td>\n",
       "      <td>58293.0</td>\n",
       "      <td>1</td>\n",
       "      <td>0</td>\n",
       "      <td>19-01-2014</td>\n",
       "      <td>94</td>\n",
       "      <td>173</td>\n",
       "      <td>...</td>\n",
       "      <td>5</td>\n",
       "      <td>0</td>\n",
       "      <td>0</td>\n",
       "      <td>0</td>\n",
       "      <td>0</td>\n",
       "      <td>0</td>\n",
       "      <td>0</td>\n",
       "      <td>3</td>\n",
       "      <td>11</td>\n",
       "      <td>0</td>\n",
       "    </tr>\n",
       "  </tbody>\n",
       "</table>\n",
       "<p>5 rows × 29 columns</p>\n",
       "</div>"
      ],
      "text/plain": [
       "     ID  Year_Birth   Education Marital_Status   Income  Kidhome  Teenhome  \\\n",
       "0  5524        1957  Graduation         Single  58138.0        0         0   \n",
       "1  2174        1954  Graduation         Single  46344.0        1         1   \n",
       "2  4141        1965  Graduation       Together  71613.0        0         0   \n",
       "3  6182        1984  Graduation       Together  26646.0        1         0   \n",
       "4  5324        1981         PhD        Married  58293.0        1         0   \n",
       "\n",
       "  Dt_Customer  Recency  MntWines  ...  NumWebVisitsMonth  AcceptedCmp3  \\\n",
       "0  04-09-2012       58       635  ...                  7             0   \n",
       "1  08-03-2014       38        11  ...                  5             0   \n",
       "2  21-08-2013       26       426  ...                  4             0   \n",
       "3  10-02-2014       26        11  ...                  6             0   \n",
       "4  19-01-2014       94       173  ...                  5             0   \n",
       "\n",
       "   AcceptedCmp4  AcceptedCmp5  AcceptedCmp1  AcceptedCmp2  Complain  \\\n",
       "0             0             0             0             0         0   \n",
       "1             0             0             0             0         0   \n",
       "2             0             0             0             0         0   \n",
       "3             0             0             0             0         0   \n",
       "4             0             0             0             0         0   \n",
       "\n",
       "   Z_CostContact  Z_Revenue  Response  \n",
       "0              3         11         1  \n",
       "1              3         11         0  \n",
       "2              3         11         0  \n",
       "3              3         11         0  \n",
       "4              3         11         0  \n",
       "\n",
       "[5 rows x 29 columns]"
      ]
     },
     "execution_count": 4,
     "metadata": {},
     "output_type": "execute_result"
    }
   ],
   "source": [
    "df.head()"
   ]
  },
  {
   "cell_type": "code",
   "execution_count": 5,
   "id": "695c4fcd",
   "metadata": {},
   "outputs": [
    {
     "data": {
      "text/plain": [
       "(2240, 29)"
      ]
     },
     "execution_count": 5,
     "metadata": {},
     "output_type": "execute_result"
    }
   ],
   "source": [
    "df.shape"
   ]
  },
  {
   "cell_type": "code",
   "execution_count": 6,
   "id": "d35933f6",
   "metadata": {},
   "outputs": [
    {
     "data": {
      "text/plain": [
       "ID                      0\n",
       "Year_Birth              0\n",
       "Education               0\n",
       "Marital_Status          0\n",
       "Income                 24\n",
       "Kidhome                 0\n",
       "Teenhome                0\n",
       "Dt_Customer             0\n",
       "Recency                 0\n",
       "MntWines                0\n",
       "MntFruits               0\n",
       "MntMeatProducts         0\n",
       "MntFishProducts         0\n",
       "MntSweetProducts        0\n",
       "MntGoldProds            0\n",
       "NumDealsPurchases       0\n",
       "NumWebPurchases         0\n",
       "NumCatalogPurchases     0\n",
       "NumStorePurchases       0\n",
       "NumWebVisitsMonth       0\n",
       "AcceptedCmp3            0\n",
       "AcceptedCmp4            0\n",
       "AcceptedCmp5            0\n",
       "AcceptedCmp1            0\n",
       "AcceptedCmp2            0\n",
       "Complain                0\n",
       "Z_CostContact           0\n",
       "Z_Revenue               0\n",
       "Response                0\n",
       "dtype: int64"
      ]
     },
     "execution_count": 6,
     "metadata": {},
     "output_type": "execute_result"
    }
   ],
   "source": [
    "df.isnull().sum()"
   ]
  },
  {
   "cell_type": "code",
   "execution_count": 7,
   "id": "4b722ffc",
   "metadata": {},
   "outputs": [
    {
     "data": {
      "text/plain": [
       "Index(['ID', 'Year_Birth', 'Education', 'Marital_Status', 'Income', 'Kidhome',\n",
       "       'Teenhome', 'Dt_Customer', 'Recency', 'MntWines', 'MntFruits',\n",
       "       'MntMeatProducts', 'MntFishProducts', 'MntSweetProducts',\n",
       "       'MntGoldProds', 'NumDealsPurchases', 'NumWebPurchases',\n",
       "       'NumCatalogPurchases', 'NumStorePurchases', 'NumWebVisitsMonth',\n",
       "       'AcceptedCmp3', 'AcceptedCmp4', 'AcceptedCmp5', 'AcceptedCmp1',\n",
       "       'AcceptedCmp2', 'Complain', 'Z_CostContact', 'Z_Revenue', 'Response'],\n",
       "      dtype='object')"
      ]
     },
     "execution_count": 7,
     "metadata": {},
     "output_type": "execute_result"
    }
   ],
   "source": [
    "df.columns"
   ]
  },
  {
   "cell_type": "code",
   "execution_count": 8,
   "id": "b0941f75",
   "metadata": {},
   "outputs": [
    {
     "data": {
      "text/html": [
       "<style type=\"text/css\">\n",
       "#T_9d9c1_row0_col0 {\n",
       "  background-color: #e2e2e2;\n",
       "  color: #000000;\n",
       "}\n",
       "#T_9d9c1_row0_col1, #T_9d9c1_row0_col3, #T_9d9c1_row0_col4, #T_9d9c1_row0_col5, #T_9d9c1_row0_col6, #T_9d9c1_row0_col7, #T_9d9c1_row0_col8, #T_9d9c1_row0_col9, #T_9d9c1_row0_col10, #T_9d9c1_row0_col11, #T_9d9c1_row0_col12, #T_9d9c1_row0_col13, #T_9d9c1_row0_col14, #T_9d9c1_row0_col15, #T_9d9c1_row0_col16, #T_9d9c1_row0_col17, #T_9d9c1_row0_col18, #T_9d9c1_row0_col19, #T_9d9c1_row0_col20, #T_9d9c1_row0_col21, #T_9d9c1_row0_col22, #T_9d9c1_row0_col23, #T_9d9c1_row0_col24, #T_9d9c1_row0_col25, #T_9d9c1_row7_col0, #T_9d9c1_row7_col2 {\n",
       "  background-color: #000000;\n",
       "  color: #f1f1f1;\n",
       "}\n",
       "#T_9d9c1_row0_col2, #T_9d9c1_row1_col3, #T_9d9c1_row1_col4, #T_9d9c1_row1_col12, #T_9d9c1_row1_col13, #T_9d9c1_row1_col14, #T_9d9c1_row1_col15, #T_9d9c1_row1_col16, #T_9d9c1_row1_col17, #T_9d9c1_row1_col18, #T_9d9c1_row1_col19, #T_9d9c1_row1_col20, #T_9d9c1_row1_col21, #T_9d9c1_row1_col22, #T_9d9c1_row1_col23, #T_9d9c1_row1_col24, #T_9d9c1_row1_col25, #T_9d9c1_row2_col1, #T_9d9c1_row2_col3, #T_9d9c1_row2_col4, #T_9d9c1_row2_col12, #T_9d9c1_row2_col13, #T_9d9c1_row2_col14, #T_9d9c1_row2_col15, #T_9d9c1_row2_col16, #T_9d9c1_row2_col17, #T_9d9c1_row2_col18, #T_9d9c1_row2_col19, #T_9d9c1_row2_col20, #T_9d9c1_row2_col21, #T_9d9c1_row2_col22, #T_9d9c1_row2_col23, #T_9d9c1_row2_col24, #T_9d9c1_row2_col25, #T_9d9c1_row3_col0, #T_9d9c1_row3_col2, #T_9d9c1_row3_col3, #T_9d9c1_row3_col4, #T_9d9c1_row3_col5, #T_9d9c1_row3_col6, #T_9d9c1_row3_col7, #T_9d9c1_row3_col8, #T_9d9c1_row3_col9, #T_9d9c1_row3_col10, #T_9d9c1_row3_col11, #T_9d9c1_row3_col12, #T_9d9c1_row3_col13, #T_9d9c1_row3_col14, #T_9d9c1_row3_col15, #T_9d9c1_row3_col16, #T_9d9c1_row3_col17, #T_9d9c1_row3_col18, #T_9d9c1_row3_col19, #T_9d9c1_row3_col20, #T_9d9c1_row3_col21, #T_9d9c1_row3_col22, #T_9d9c1_row3_col23, #T_9d9c1_row3_col24, #T_9d9c1_row3_col25, #T_9d9c1_row4_col3, #T_9d9c1_row4_col4, #T_9d9c1_row4_col7, #T_9d9c1_row4_col8, #T_9d9c1_row4_col9, #T_9d9c1_row4_col10, #T_9d9c1_row4_col11, #T_9d9c1_row4_col12, #T_9d9c1_row4_col13, #T_9d9c1_row4_col14, #T_9d9c1_row4_col15, #T_9d9c1_row4_col16, #T_9d9c1_row4_col17, #T_9d9c1_row4_col18, #T_9d9c1_row4_col19, #T_9d9c1_row4_col20, #T_9d9c1_row4_col21, #T_9d9c1_row4_col22, #T_9d9c1_row4_col23, #T_9d9c1_row4_col24, #T_9d9c1_row4_col25, #T_9d9c1_row5_col3, #T_9d9c1_row5_col4, #T_9d9c1_row5_col7, #T_9d9c1_row5_col9, #T_9d9c1_row5_col10, #T_9d9c1_row5_col12, #T_9d9c1_row5_col13, #T_9d9c1_row5_col14, #T_9d9c1_row5_col15, #T_9d9c1_row5_col16, #T_9d9c1_row5_col17, #T_9d9c1_row5_col18, #T_9d9c1_row5_col19, #T_9d9c1_row5_col20, #T_9d9c1_row5_col21, #T_9d9c1_row5_col22, #T_9d9c1_row5_col23, #T_9d9c1_row5_col24, #T_9d9c1_row5_col25, #T_9d9c1_row6_col3, #T_9d9c1_row6_col4, #T_9d9c1_row6_col12, #T_9d9c1_row6_col13, #T_9d9c1_row6_col14, #T_9d9c1_row6_col15, #T_9d9c1_row6_col16, #T_9d9c1_row6_col17, #T_9d9c1_row6_col18, #T_9d9c1_row6_col19, #T_9d9c1_row6_col20, #T_9d9c1_row6_col21, #T_9d9c1_row6_col22, #T_9d9c1_row6_col23, #T_9d9c1_row6_col24, #T_9d9c1_row6_col25, #T_9d9c1_row7_col3, #T_9d9c1_row7_col4, #T_9d9c1_row7_col12, #T_9d9c1_row7_col15, #T_9d9c1_row7_col17, #T_9d9c1_row7_col18, #T_9d9c1_row7_col19, #T_9d9c1_row7_col20, #T_9d9c1_row7_col21, #T_9d9c1_row7_col22, #T_9d9c1_row7_col23, #T_9d9c1_row7_col24, #T_9d9c1_row7_col25 {\n",
       "  background-color: #ffffff;\n",
       "  color: #000000;\n",
       "}\n",
       "#T_9d9c1_row1_col0 {\n",
       "  background-color: #979797;\n",
       "  color: #f1f1f1;\n",
       "}\n",
       "#T_9d9c1_row1_col1, #T_9d9c1_row5_col1 {\n",
       "  background-color: #242424;\n",
       "  color: #f1f1f1;\n",
       "}\n",
       "#T_9d9c1_row1_col2, #T_9d9c1_row1_col8, #T_9d9c1_row5_col2, #T_9d9c1_row5_col6 {\n",
       "  background-color: #f6f6f6;\n",
       "  color: #000000;\n",
       "}\n",
       "#T_9d9c1_row1_col5, #T_9d9c1_row1_col9, #T_9d9c1_row1_col11, #T_9d9c1_row2_col7, #T_9d9c1_row2_col10, #T_9d9c1_row2_col11, #T_9d9c1_row5_col5, #T_9d9c1_row6_col9 {\n",
       "  background-color: #fdfdfd;\n",
       "  color: #000000;\n",
       "}\n",
       "#T_9d9c1_row1_col6 {\n",
       "  background-color: #eeeeee;\n",
       "  color: #000000;\n",
       "}\n",
       "#T_9d9c1_row1_col7, #T_9d9c1_row1_col10, #T_9d9c1_row2_col5, #T_9d9c1_row4_col5, #T_9d9c1_row4_col6, #T_9d9c1_row5_col11, #T_9d9c1_row6_col7, #T_9d9c1_row6_col10, #T_9d9c1_row7_col13, #T_9d9c1_row7_col14, #T_9d9c1_row7_col16 {\n",
       "  background-color: #fefefe;\n",
       "  color: #000000;\n",
       "}\n",
       "#T_9d9c1_row2_col0 {\n",
       "  background-color: #d0d0d0;\n",
       "  color: #000000;\n",
       "}\n",
       "#T_9d9c1_row2_col2, #T_9d9c1_row6_col5 {\n",
       "  background-color: #fbfbfb;\n",
       "  color: #000000;\n",
       "}\n",
       "#T_9d9c1_row2_col6 {\n",
       "  background-color: #ececec;\n",
       "  color: #000000;\n",
       "}\n",
       "#T_9d9c1_row2_col8, #T_9d9c1_row6_col2, #T_9d9c1_row6_col8 {\n",
       "  background-color: #f3f3f3;\n",
       "  color: #000000;\n",
       "}\n",
       "#T_9d9c1_row2_col9, #T_9d9c1_row5_col8, #T_9d9c1_row6_col11 {\n",
       "  background-color: #fcfcfc;\n",
       "  color: #000000;\n",
       "}\n",
       "#T_9d9c1_row3_col1 {\n",
       "  background-color: #2f2f2f;\n",
       "  color: #f1f1f1;\n",
       "}\n",
       "#T_9d9c1_row4_col0 {\n",
       "  background-color: #d9d9d9;\n",
       "  color: #000000;\n",
       "}\n",
       "#T_9d9c1_row4_col1 {\n",
       "  background-color: #252525;\n",
       "  color: #f1f1f1;\n",
       "}\n",
       "#T_9d9c1_row4_col2 {\n",
       "  background-color: #f9f9f9;\n",
       "  color: #000000;\n",
       "}\n",
       "#T_9d9c1_row5_col0 {\n",
       "  background-color: #9a9a9a;\n",
       "  color: #f1f1f1;\n",
       "}\n",
       "#T_9d9c1_row6_col0 {\n",
       "  background-color: #515151;\n",
       "  color: #f1f1f1;\n",
       "}\n",
       "#T_9d9c1_row6_col1 {\n",
       "  background-color: #232323;\n",
       "  color: #f1f1f1;\n",
       "}\n",
       "#T_9d9c1_row6_col6 {\n",
       "  background-color: #dedede;\n",
       "  color: #000000;\n",
       "}\n",
       "#T_9d9c1_row7_col1 {\n",
       "  background-color: #212121;\n",
       "  color: #f1f1f1;\n",
       "}\n",
       "#T_9d9c1_row7_col5 {\n",
       "  background-color: #fafafa;\n",
       "  color: #000000;\n",
       "}\n",
       "#T_9d9c1_row7_col6 {\n",
       "  background-color: #686868;\n",
       "  color: #f1f1f1;\n",
       "}\n",
       "#T_9d9c1_row7_col7 {\n",
       "  background-color: #f5f5f5;\n",
       "  color: #000000;\n",
       "}\n",
       "#T_9d9c1_row7_col8 {\n",
       "  background-color: #4a4a4a;\n",
       "  color: #f1f1f1;\n",
       "}\n",
       "#T_9d9c1_row7_col9, #T_9d9c1_row7_col10 {\n",
       "  background-color: #f1f1f1;\n",
       "  color: #000000;\n",
       "}\n",
       "#T_9d9c1_row7_col11 {\n",
       "  background-color: #e9e9e9;\n",
       "  color: #000000;\n",
       "}\n",
       "</style>\n",
       "<table id=\"T_9d9c1\">\n",
       "  <thead>\n",
       "    <tr>\n",
       "      <th class=\"blank level0\" >&nbsp;</th>\n",
       "      <th id=\"T_9d9c1_level0_col0\" class=\"col_heading level0 col0\" >ID</th>\n",
       "      <th id=\"T_9d9c1_level0_col1\" class=\"col_heading level0 col1\" >Year_Birth</th>\n",
       "      <th id=\"T_9d9c1_level0_col2\" class=\"col_heading level0 col2\" >Income</th>\n",
       "      <th id=\"T_9d9c1_level0_col3\" class=\"col_heading level0 col3\" >Kidhome</th>\n",
       "      <th id=\"T_9d9c1_level0_col4\" class=\"col_heading level0 col4\" >Teenhome</th>\n",
       "      <th id=\"T_9d9c1_level0_col5\" class=\"col_heading level0 col5\" >Recency</th>\n",
       "      <th id=\"T_9d9c1_level0_col6\" class=\"col_heading level0 col6\" >MntWines</th>\n",
       "      <th id=\"T_9d9c1_level0_col7\" class=\"col_heading level0 col7\" >MntFruits</th>\n",
       "      <th id=\"T_9d9c1_level0_col8\" class=\"col_heading level0 col8\" >MntMeatProducts</th>\n",
       "      <th id=\"T_9d9c1_level0_col9\" class=\"col_heading level0 col9\" >MntFishProducts</th>\n",
       "      <th id=\"T_9d9c1_level0_col10\" class=\"col_heading level0 col10\" >MntSweetProducts</th>\n",
       "      <th id=\"T_9d9c1_level0_col11\" class=\"col_heading level0 col11\" >MntGoldProds</th>\n",
       "      <th id=\"T_9d9c1_level0_col12\" class=\"col_heading level0 col12\" >NumDealsPurchases</th>\n",
       "      <th id=\"T_9d9c1_level0_col13\" class=\"col_heading level0 col13\" >NumWebPurchases</th>\n",
       "      <th id=\"T_9d9c1_level0_col14\" class=\"col_heading level0 col14\" >NumCatalogPurchases</th>\n",
       "      <th id=\"T_9d9c1_level0_col15\" class=\"col_heading level0 col15\" >NumStorePurchases</th>\n",
       "      <th id=\"T_9d9c1_level0_col16\" class=\"col_heading level0 col16\" >NumWebVisitsMonth</th>\n",
       "      <th id=\"T_9d9c1_level0_col17\" class=\"col_heading level0 col17\" >AcceptedCmp3</th>\n",
       "      <th id=\"T_9d9c1_level0_col18\" class=\"col_heading level0 col18\" >AcceptedCmp4</th>\n",
       "      <th id=\"T_9d9c1_level0_col19\" class=\"col_heading level0 col19\" >AcceptedCmp5</th>\n",
       "      <th id=\"T_9d9c1_level0_col20\" class=\"col_heading level0 col20\" >AcceptedCmp1</th>\n",
       "      <th id=\"T_9d9c1_level0_col21\" class=\"col_heading level0 col21\" >AcceptedCmp2</th>\n",
       "      <th id=\"T_9d9c1_level0_col22\" class=\"col_heading level0 col22\" >Complain</th>\n",
       "      <th id=\"T_9d9c1_level0_col23\" class=\"col_heading level0 col23\" >Z_CostContact</th>\n",
       "      <th id=\"T_9d9c1_level0_col24\" class=\"col_heading level0 col24\" >Z_Revenue</th>\n",
       "      <th id=\"T_9d9c1_level0_col25\" class=\"col_heading level0 col25\" >Response</th>\n",
       "    </tr>\n",
       "  </thead>\n",
       "  <tbody>\n",
       "    <tr>\n",
       "      <th id=\"T_9d9c1_level0_row0\" class=\"row_heading level0 row0\" >count</th>\n",
       "      <td id=\"T_9d9c1_row0_col0\" class=\"data row0 col0\" >2240.000000</td>\n",
       "      <td id=\"T_9d9c1_row0_col1\" class=\"data row0 col1\" >2240.000000</td>\n",
       "      <td id=\"T_9d9c1_row0_col2\" class=\"data row0 col2\" >2216.000000</td>\n",
       "      <td id=\"T_9d9c1_row0_col3\" class=\"data row0 col3\" >2240.000000</td>\n",
       "      <td id=\"T_9d9c1_row0_col4\" class=\"data row0 col4\" >2240.000000</td>\n",
       "      <td id=\"T_9d9c1_row0_col5\" class=\"data row0 col5\" >2240.000000</td>\n",
       "      <td id=\"T_9d9c1_row0_col6\" class=\"data row0 col6\" >2240.000000</td>\n",
       "      <td id=\"T_9d9c1_row0_col7\" class=\"data row0 col7\" >2240.000000</td>\n",
       "      <td id=\"T_9d9c1_row0_col8\" class=\"data row0 col8\" >2240.000000</td>\n",
       "      <td id=\"T_9d9c1_row0_col9\" class=\"data row0 col9\" >2240.000000</td>\n",
       "      <td id=\"T_9d9c1_row0_col10\" class=\"data row0 col10\" >2240.000000</td>\n",
       "      <td id=\"T_9d9c1_row0_col11\" class=\"data row0 col11\" >2240.000000</td>\n",
       "      <td id=\"T_9d9c1_row0_col12\" class=\"data row0 col12\" >2240.000000</td>\n",
       "      <td id=\"T_9d9c1_row0_col13\" class=\"data row0 col13\" >2240.000000</td>\n",
       "      <td id=\"T_9d9c1_row0_col14\" class=\"data row0 col14\" >2240.000000</td>\n",
       "      <td id=\"T_9d9c1_row0_col15\" class=\"data row0 col15\" >2240.000000</td>\n",
       "      <td id=\"T_9d9c1_row0_col16\" class=\"data row0 col16\" >2240.000000</td>\n",
       "      <td id=\"T_9d9c1_row0_col17\" class=\"data row0 col17\" >2240.000000</td>\n",
       "      <td id=\"T_9d9c1_row0_col18\" class=\"data row0 col18\" >2240.000000</td>\n",
       "      <td id=\"T_9d9c1_row0_col19\" class=\"data row0 col19\" >2240.000000</td>\n",
       "      <td id=\"T_9d9c1_row0_col20\" class=\"data row0 col20\" >2240.000000</td>\n",
       "      <td id=\"T_9d9c1_row0_col21\" class=\"data row0 col21\" >2240.000000</td>\n",
       "      <td id=\"T_9d9c1_row0_col22\" class=\"data row0 col22\" >2240.000000</td>\n",
       "      <td id=\"T_9d9c1_row0_col23\" class=\"data row0 col23\" >2240.000000</td>\n",
       "      <td id=\"T_9d9c1_row0_col24\" class=\"data row0 col24\" >2240.000000</td>\n",
       "      <td id=\"T_9d9c1_row0_col25\" class=\"data row0 col25\" >2240.000000</td>\n",
       "    </tr>\n",
       "    <tr>\n",
       "      <th id=\"T_9d9c1_level0_row1\" class=\"row_heading level0 row1\" >mean</th>\n",
       "      <td id=\"T_9d9c1_row1_col0\" class=\"data row1 col0\" >5592.159821</td>\n",
       "      <td id=\"T_9d9c1_row1_col1\" class=\"data row1 col1\" >1968.805804</td>\n",
       "      <td id=\"T_9d9c1_row1_col2\" class=\"data row1 col2\" >52247.251354</td>\n",
       "      <td id=\"T_9d9c1_row1_col3\" class=\"data row1 col3\" >0.444196</td>\n",
       "      <td id=\"T_9d9c1_row1_col4\" class=\"data row1 col4\" >0.506250</td>\n",
       "      <td id=\"T_9d9c1_row1_col5\" class=\"data row1 col5\" >49.109375</td>\n",
       "      <td id=\"T_9d9c1_row1_col6\" class=\"data row1 col6\" >303.935714</td>\n",
       "      <td id=\"T_9d9c1_row1_col7\" class=\"data row1 col7\" >26.302232</td>\n",
       "      <td id=\"T_9d9c1_row1_col8\" class=\"data row1 col8\" >166.950000</td>\n",
       "      <td id=\"T_9d9c1_row1_col9\" class=\"data row1 col9\" >37.525446</td>\n",
       "      <td id=\"T_9d9c1_row1_col10\" class=\"data row1 col10\" >27.062946</td>\n",
       "      <td id=\"T_9d9c1_row1_col11\" class=\"data row1 col11\" >44.021875</td>\n",
       "      <td id=\"T_9d9c1_row1_col12\" class=\"data row1 col12\" >2.325000</td>\n",
       "      <td id=\"T_9d9c1_row1_col13\" class=\"data row1 col13\" >4.084821</td>\n",
       "      <td id=\"T_9d9c1_row1_col14\" class=\"data row1 col14\" >2.662054</td>\n",
       "      <td id=\"T_9d9c1_row1_col15\" class=\"data row1 col15\" >5.790179</td>\n",
       "      <td id=\"T_9d9c1_row1_col16\" class=\"data row1 col16\" >5.316518</td>\n",
       "      <td id=\"T_9d9c1_row1_col17\" class=\"data row1 col17\" >0.072768</td>\n",
       "      <td id=\"T_9d9c1_row1_col18\" class=\"data row1 col18\" >0.074554</td>\n",
       "      <td id=\"T_9d9c1_row1_col19\" class=\"data row1 col19\" >0.072768</td>\n",
       "      <td id=\"T_9d9c1_row1_col20\" class=\"data row1 col20\" >0.064286</td>\n",
       "      <td id=\"T_9d9c1_row1_col21\" class=\"data row1 col21\" >0.013393</td>\n",
       "      <td id=\"T_9d9c1_row1_col22\" class=\"data row1 col22\" >0.009375</td>\n",
       "      <td id=\"T_9d9c1_row1_col23\" class=\"data row1 col23\" >3.000000</td>\n",
       "      <td id=\"T_9d9c1_row1_col24\" class=\"data row1 col24\" >11.000000</td>\n",
       "      <td id=\"T_9d9c1_row1_col25\" class=\"data row1 col25\" >0.149107</td>\n",
       "    </tr>\n",
       "    <tr>\n",
       "      <th id=\"T_9d9c1_level0_row2\" class=\"row_heading level0 row2\" >std</th>\n",
       "      <td id=\"T_9d9c1_row2_col0\" class=\"data row2 col0\" >3246.662198</td>\n",
       "      <td id=\"T_9d9c1_row2_col1\" class=\"data row2 col1\" >11.984069</td>\n",
       "      <td id=\"T_9d9c1_row2_col2\" class=\"data row2 col2\" >25173.076661</td>\n",
       "      <td id=\"T_9d9c1_row2_col3\" class=\"data row2 col3\" >0.538398</td>\n",
       "      <td id=\"T_9d9c1_row2_col4\" class=\"data row2 col4\" >0.544538</td>\n",
       "      <td id=\"T_9d9c1_row2_col5\" class=\"data row2 col5\" >28.962453</td>\n",
       "      <td id=\"T_9d9c1_row2_col6\" class=\"data row2 col6\" >336.597393</td>\n",
       "      <td id=\"T_9d9c1_row2_col7\" class=\"data row2 col7\" >39.773434</td>\n",
       "      <td id=\"T_9d9c1_row2_col8\" class=\"data row2 col8\" >225.715373</td>\n",
       "      <td id=\"T_9d9c1_row2_col9\" class=\"data row2 col9\" >54.628979</td>\n",
       "      <td id=\"T_9d9c1_row2_col10\" class=\"data row2 col10\" >41.280498</td>\n",
       "      <td id=\"T_9d9c1_row2_col11\" class=\"data row2 col11\" >52.167439</td>\n",
       "      <td id=\"T_9d9c1_row2_col12\" class=\"data row2 col12\" >1.932238</td>\n",
       "      <td id=\"T_9d9c1_row2_col13\" class=\"data row2 col13\" >2.778714</td>\n",
       "      <td id=\"T_9d9c1_row2_col14\" class=\"data row2 col14\" >2.923101</td>\n",
       "      <td id=\"T_9d9c1_row2_col15\" class=\"data row2 col15\" >3.250958</td>\n",
       "      <td id=\"T_9d9c1_row2_col16\" class=\"data row2 col16\" >2.426645</td>\n",
       "      <td id=\"T_9d9c1_row2_col17\" class=\"data row2 col17\" >0.259813</td>\n",
       "      <td id=\"T_9d9c1_row2_col18\" class=\"data row2 col18\" >0.262728</td>\n",
       "      <td id=\"T_9d9c1_row2_col19\" class=\"data row2 col19\" >0.259813</td>\n",
       "      <td id=\"T_9d9c1_row2_col20\" class=\"data row2 col20\" >0.245316</td>\n",
       "      <td id=\"T_9d9c1_row2_col21\" class=\"data row2 col21\" >0.114976</td>\n",
       "      <td id=\"T_9d9c1_row2_col22\" class=\"data row2 col22\" >0.096391</td>\n",
       "      <td id=\"T_9d9c1_row2_col23\" class=\"data row2 col23\" >0.000000</td>\n",
       "      <td id=\"T_9d9c1_row2_col24\" class=\"data row2 col24\" >0.000000</td>\n",
       "      <td id=\"T_9d9c1_row2_col25\" class=\"data row2 col25\" >0.356274</td>\n",
       "    </tr>\n",
       "    <tr>\n",
       "      <th id=\"T_9d9c1_level0_row3\" class=\"row_heading level0 row3\" >min</th>\n",
       "      <td id=\"T_9d9c1_row3_col0\" class=\"data row3 col0\" >0.000000</td>\n",
       "      <td id=\"T_9d9c1_row3_col1\" class=\"data row3 col1\" >1893.000000</td>\n",
       "      <td id=\"T_9d9c1_row3_col2\" class=\"data row3 col2\" >1730.000000</td>\n",
       "      <td id=\"T_9d9c1_row3_col3\" class=\"data row3 col3\" >0.000000</td>\n",
       "      <td id=\"T_9d9c1_row3_col4\" class=\"data row3 col4\" >0.000000</td>\n",
       "      <td id=\"T_9d9c1_row3_col5\" class=\"data row3 col5\" >0.000000</td>\n",
       "      <td id=\"T_9d9c1_row3_col6\" class=\"data row3 col6\" >0.000000</td>\n",
       "      <td id=\"T_9d9c1_row3_col7\" class=\"data row3 col7\" >0.000000</td>\n",
       "      <td id=\"T_9d9c1_row3_col8\" class=\"data row3 col8\" >0.000000</td>\n",
       "      <td id=\"T_9d9c1_row3_col9\" class=\"data row3 col9\" >0.000000</td>\n",
       "      <td id=\"T_9d9c1_row3_col10\" class=\"data row3 col10\" >0.000000</td>\n",
       "      <td id=\"T_9d9c1_row3_col11\" class=\"data row3 col11\" >0.000000</td>\n",
       "      <td id=\"T_9d9c1_row3_col12\" class=\"data row3 col12\" >0.000000</td>\n",
       "      <td id=\"T_9d9c1_row3_col13\" class=\"data row3 col13\" >0.000000</td>\n",
       "      <td id=\"T_9d9c1_row3_col14\" class=\"data row3 col14\" >0.000000</td>\n",
       "      <td id=\"T_9d9c1_row3_col15\" class=\"data row3 col15\" >0.000000</td>\n",
       "      <td id=\"T_9d9c1_row3_col16\" class=\"data row3 col16\" >0.000000</td>\n",
       "      <td id=\"T_9d9c1_row3_col17\" class=\"data row3 col17\" >0.000000</td>\n",
       "      <td id=\"T_9d9c1_row3_col18\" class=\"data row3 col18\" >0.000000</td>\n",
       "      <td id=\"T_9d9c1_row3_col19\" class=\"data row3 col19\" >0.000000</td>\n",
       "      <td id=\"T_9d9c1_row3_col20\" class=\"data row3 col20\" >0.000000</td>\n",
       "      <td id=\"T_9d9c1_row3_col21\" class=\"data row3 col21\" >0.000000</td>\n",
       "      <td id=\"T_9d9c1_row3_col22\" class=\"data row3 col22\" >0.000000</td>\n",
       "      <td id=\"T_9d9c1_row3_col23\" class=\"data row3 col23\" >3.000000</td>\n",
       "      <td id=\"T_9d9c1_row3_col24\" class=\"data row3 col24\" >11.000000</td>\n",
       "      <td id=\"T_9d9c1_row3_col25\" class=\"data row3 col25\" >0.000000</td>\n",
       "    </tr>\n",
       "    <tr>\n",
       "      <th id=\"T_9d9c1_level0_row4\" class=\"row_heading level0 row4\" >25%</th>\n",
       "      <td id=\"T_9d9c1_row4_col0\" class=\"data row4 col0\" >2828.250000</td>\n",
       "      <td id=\"T_9d9c1_row4_col1\" class=\"data row4 col1\" >1959.000000</td>\n",
       "      <td id=\"T_9d9c1_row4_col2\" class=\"data row4 col2\" >35303.000000</td>\n",
       "      <td id=\"T_9d9c1_row4_col3\" class=\"data row4 col3\" >0.000000</td>\n",
       "      <td id=\"T_9d9c1_row4_col4\" class=\"data row4 col4\" >0.000000</td>\n",
       "      <td id=\"T_9d9c1_row4_col5\" class=\"data row4 col5\" >24.000000</td>\n",
       "      <td id=\"T_9d9c1_row4_col6\" class=\"data row4 col6\" >23.750000</td>\n",
       "      <td id=\"T_9d9c1_row4_col7\" class=\"data row4 col7\" >1.000000</td>\n",
       "      <td id=\"T_9d9c1_row4_col8\" class=\"data row4 col8\" >16.000000</td>\n",
       "      <td id=\"T_9d9c1_row4_col9\" class=\"data row4 col9\" >3.000000</td>\n",
       "      <td id=\"T_9d9c1_row4_col10\" class=\"data row4 col10\" >1.000000</td>\n",
       "      <td id=\"T_9d9c1_row4_col11\" class=\"data row4 col11\" >9.000000</td>\n",
       "      <td id=\"T_9d9c1_row4_col12\" class=\"data row4 col12\" >1.000000</td>\n",
       "      <td id=\"T_9d9c1_row4_col13\" class=\"data row4 col13\" >2.000000</td>\n",
       "      <td id=\"T_9d9c1_row4_col14\" class=\"data row4 col14\" >0.000000</td>\n",
       "      <td id=\"T_9d9c1_row4_col15\" class=\"data row4 col15\" >3.000000</td>\n",
       "      <td id=\"T_9d9c1_row4_col16\" class=\"data row4 col16\" >3.000000</td>\n",
       "      <td id=\"T_9d9c1_row4_col17\" class=\"data row4 col17\" >0.000000</td>\n",
       "      <td id=\"T_9d9c1_row4_col18\" class=\"data row4 col18\" >0.000000</td>\n",
       "      <td id=\"T_9d9c1_row4_col19\" class=\"data row4 col19\" >0.000000</td>\n",
       "      <td id=\"T_9d9c1_row4_col20\" class=\"data row4 col20\" >0.000000</td>\n",
       "      <td id=\"T_9d9c1_row4_col21\" class=\"data row4 col21\" >0.000000</td>\n",
       "      <td id=\"T_9d9c1_row4_col22\" class=\"data row4 col22\" >0.000000</td>\n",
       "      <td id=\"T_9d9c1_row4_col23\" class=\"data row4 col23\" >3.000000</td>\n",
       "      <td id=\"T_9d9c1_row4_col24\" class=\"data row4 col24\" >11.000000</td>\n",
       "      <td id=\"T_9d9c1_row4_col25\" class=\"data row4 col25\" >0.000000</td>\n",
       "    </tr>\n",
       "    <tr>\n",
       "      <th id=\"T_9d9c1_level0_row5\" class=\"row_heading level0 row5\" >50%</th>\n",
       "      <td id=\"T_9d9c1_row5_col0\" class=\"data row5 col0\" >5458.500000</td>\n",
       "      <td id=\"T_9d9c1_row5_col1\" class=\"data row5 col1\" >1970.000000</td>\n",
       "      <td id=\"T_9d9c1_row5_col2\" class=\"data row5 col2\" >51381.500000</td>\n",
       "      <td id=\"T_9d9c1_row5_col3\" class=\"data row5 col3\" >0.000000</td>\n",
       "      <td id=\"T_9d9c1_row5_col4\" class=\"data row5 col4\" >0.000000</td>\n",
       "      <td id=\"T_9d9c1_row5_col5\" class=\"data row5 col5\" >49.000000</td>\n",
       "      <td id=\"T_9d9c1_row5_col6\" class=\"data row5 col6\" >173.500000</td>\n",
       "      <td id=\"T_9d9c1_row5_col7\" class=\"data row5 col7\" >8.000000</td>\n",
       "      <td id=\"T_9d9c1_row5_col8\" class=\"data row5 col8\" >67.000000</td>\n",
       "      <td id=\"T_9d9c1_row5_col9\" class=\"data row5 col9\" >12.000000</td>\n",
       "      <td id=\"T_9d9c1_row5_col10\" class=\"data row5 col10\" >8.000000</td>\n",
       "      <td id=\"T_9d9c1_row5_col11\" class=\"data row5 col11\" >24.000000</td>\n",
       "      <td id=\"T_9d9c1_row5_col12\" class=\"data row5 col12\" >2.000000</td>\n",
       "      <td id=\"T_9d9c1_row5_col13\" class=\"data row5 col13\" >4.000000</td>\n",
       "      <td id=\"T_9d9c1_row5_col14\" class=\"data row5 col14\" >2.000000</td>\n",
       "      <td id=\"T_9d9c1_row5_col15\" class=\"data row5 col15\" >5.000000</td>\n",
       "      <td id=\"T_9d9c1_row5_col16\" class=\"data row5 col16\" >6.000000</td>\n",
       "      <td id=\"T_9d9c1_row5_col17\" class=\"data row5 col17\" >0.000000</td>\n",
       "      <td id=\"T_9d9c1_row5_col18\" class=\"data row5 col18\" >0.000000</td>\n",
       "      <td id=\"T_9d9c1_row5_col19\" class=\"data row5 col19\" >0.000000</td>\n",
       "      <td id=\"T_9d9c1_row5_col20\" class=\"data row5 col20\" >0.000000</td>\n",
       "      <td id=\"T_9d9c1_row5_col21\" class=\"data row5 col21\" >0.000000</td>\n",
       "      <td id=\"T_9d9c1_row5_col22\" class=\"data row5 col22\" >0.000000</td>\n",
       "      <td id=\"T_9d9c1_row5_col23\" class=\"data row5 col23\" >3.000000</td>\n",
       "      <td id=\"T_9d9c1_row5_col24\" class=\"data row5 col24\" >11.000000</td>\n",
       "      <td id=\"T_9d9c1_row5_col25\" class=\"data row5 col25\" >0.000000</td>\n",
       "    </tr>\n",
       "    <tr>\n",
       "      <th id=\"T_9d9c1_level0_row6\" class=\"row_heading level0 row6\" >75%</th>\n",
       "      <td id=\"T_9d9c1_row6_col0\" class=\"data row6 col0\" >8427.750000</td>\n",
       "      <td id=\"T_9d9c1_row6_col1\" class=\"data row6 col1\" >1977.000000</td>\n",
       "      <td id=\"T_9d9c1_row6_col2\" class=\"data row6 col2\" >68522.000000</td>\n",
       "      <td id=\"T_9d9c1_row6_col3\" class=\"data row6 col3\" >1.000000</td>\n",
       "      <td id=\"T_9d9c1_row6_col4\" class=\"data row6 col4\" >1.000000</td>\n",
       "      <td id=\"T_9d9c1_row6_col5\" class=\"data row6 col5\" >74.000000</td>\n",
       "      <td id=\"T_9d9c1_row6_col6\" class=\"data row6 col6\" >504.250000</td>\n",
       "      <td id=\"T_9d9c1_row6_col7\" class=\"data row6 col7\" >33.000000</td>\n",
       "      <td id=\"T_9d9c1_row6_col8\" class=\"data row6 col8\" >232.000000</td>\n",
       "      <td id=\"T_9d9c1_row6_col9\" class=\"data row6 col9\" >50.000000</td>\n",
       "      <td id=\"T_9d9c1_row6_col10\" class=\"data row6 col10\" >33.000000</td>\n",
       "      <td id=\"T_9d9c1_row6_col11\" class=\"data row6 col11\" >56.000000</td>\n",
       "      <td id=\"T_9d9c1_row6_col12\" class=\"data row6 col12\" >3.000000</td>\n",
       "      <td id=\"T_9d9c1_row6_col13\" class=\"data row6 col13\" >6.000000</td>\n",
       "      <td id=\"T_9d9c1_row6_col14\" class=\"data row6 col14\" >4.000000</td>\n",
       "      <td id=\"T_9d9c1_row6_col15\" class=\"data row6 col15\" >8.000000</td>\n",
       "      <td id=\"T_9d9c1_row6_col16\" class=\"data row6 col16\" >7.000000</td>\n",
       "      <td id=\"T_9d9c1_row6_col17\" class=\"data row6 col17\" >0.000000</td>\n",
       "      <td id=\"T_9d9c1_row6_col18\" class=\"data row6 col18\" >0.000000</td>\n",
       "      <td id=\"T_9d9c1_row6_col19\" class=\"data row6 col19\" >0.000000</td>\n",
       "      <td id=\"T_9d9c1_row6_col20\" class=\"data row6 col20\" >0.000000</td>\n",
       "      <td id=\"T_9d9c1_row6_col21\" class=\"data row6 col21\" >0.000000</td>\n",
       "      <td id=\"T_9d9c1_row6_col22\" class=\"data row6 col22\" >0.000000</td>\n",
       "      <td id=\"T_9d9c1_row6_col23\" class=\"data row6 col23\" >3.000000</td>\n",
       "      <td id=\"T_9d9c1_row6_col24\" class=\"data row6 col24\" >11.000000</td>\n",
       "      <td id=\"T_9d9c1_row6_col25\" class=\"data row6 col25\" >0.000000</td>\n",
       "    </tr>\n",
       "    <tr>\n",
       "      <th id=\"T_9d9c1_level0_row7\" class=\"row_heading level0 row7\" >max</th>\n",
       "      <td id=\"T_9d9c1_row7_col0\" class=\"data row7 col0\" >11191.000000</td>\n",
       "      <td id=\"T_9d9c1_row7_col1\" class=\"data row7 col1\" >1996.000000</td>\n",
       "      <td id=\"T_9d9c1_row7_col2\" class=\"data row7 col2\" >666666.000000</td>\n",
       "      <td id=\"T_9d9c1_row7_col3\" class=\"data row7 col3\" >2.000000</td>\n",
       "      <td id=\"T_9d9c1_row7_col4\" class=\"data row7 col4\" >2.000000</td>\n",
       "      <td id=\"T_9d9c1_row7_col5\" class=\"data row7 col5\" >99.000000</td>\n",
       "      <td id=\"T_9d9c1_row7_col6\" class=\"data row7 col6\" >1493.000000</td>\n",
       "      <td id=\"T_9d9c1_row7_col7\" class=\"data row7 col7\" >199.000000</td>\n",
       "      <td id=\"T_9d9c1_row7_col8\" class=\"data row7 col8\" >1725.000000</td>\n",
       "      <td id=\"T_9d9c1_row7_col9\" class=\"data row7 col9\" >259.000000</td>\n",
       "      <td id=\"T_9d9c1_row7_col10\" class=\"data row7 col10\" >263.000000</td>\n",
       "      <td id=\"T_9d9c1_row7_col11\" class=\"data row7 col11\" >362.000000</td>\n",
       "      <td id=\"T_9d9c1_row7_col12\" class=\"data row7 col12\" >15.000000</td>\n",
       "      <td id=\"T_9d9c1_row7_col13\" class=\"data row7 col13\" >27.000000</td>\n",
       "      <td id=\"T_9d9c1_row7_col14\" class=\"data row7 col14\" >28.000000</td>\n",
       "      <td id=\"T_9d9c1_row7_col15\" class=\"data row7 col15\" >13.000000</td>\n",
       "      <td id=\"T_9d9c1_row7_col16\" class=\"data row7 col16\" >20.000000</td>\n",
       "      <td id=\"T_9d9c1_row7_col17\" class=\"data row7 col17\" >1.000000</td>\n",
       "      <td id=\"T_9d9c1_row7_col18\" class=\"data row7 col18\" >1.000000</td>\n",
       "      <td id=\"T_9d9c1_row7_col19\" class=\"data row7 col19\" >1.000000</td>\n",
       "      <td id=\"T_9d9c1_row7_col20\" class=\"data row7 col20\" >1.000000</td>\n",
       "      <td id=\"T_9d9c1_row7_col21\" class=\"data row7 col21\" >1.000000</td>\n",
       "      <td id=\"T_9d9c1_row7_col22\" class=\"data row7 col22\" >1.000000</td>\n",
       "      <td id=\"T_9d9c1_row7_col23\" class=\"data row7 col23\" >3.000000</td>\n",
       "      <td id=\"T_9d9c1_row7_col24\" class=\"data row7 col24\" >11.000000</td>\n",
       "      <td id=\"T_9d9c1_row7_col25\" class=\"data row7 col25\" >1.000000</td>\n",
       "    </tr>\n",
       "  </tbody>\n",
       "</table>\n"
      ],
      "text/plain": [
       "<pandas.io.formats.style.Styler at 0x1e1ee8fd250>"
      ]
     },
     "execution_count": 8,
     "metadata": {},
     "output_type": "execute_result"
    }
   ],
   "source": [
    "df.describe().style.background_gradient(cmap='Greys')"
   ]
  },
  {
   "cell_type": "code",
   "execution_count": 9,
   "id": "94d7482f",
   "metadata": {},
   "outputs": [],
   "source": [
    "#FILL THE MISSING VALUES WITH THE MEDIAN VALUES.. \n",
    "df['Income']=df['Income'].fillna(df['Income'].median())"
   ]
  },
  {
   "cell_type": "code",
   "execution_count": 10,
   "id": "72e8d3bc",
   "metadata": {},
   "outputs": [
    {
     "data": {
      "text/plain": [
       "ID                     False\n",
       "Year_Birth             False\n",
       "Education              False\n",
       "Marital_Status         False\n",
       "Income                 False\n",
       "Kidhome                False\n",
       "Teenhome               False\n",
       "Dt_Customer            False\n",
       "Recency                False\n",
       "MntWines               False\n",
       "MntFruits              False\n",
       "MntMeatProducts        False\n",
       "MntFishProducts        False\n",
       "MntSweetProducts       False\n",
       "MntGoldProds           False\n",
       "NumDealsPurchases      False\n",
       "NumWebPurchases        False\n",
       "NumCatalogPurchases    False\n",
       "NumStorePurchases      False\n",
       "NumWebVisitsMonth      False\n",
       "AcceptedCmp3           False\n",
       "AcceptedCmp4           False\n",
       "AcceptedCmp5           False\n",
       "AcceptedCmp1           False\n",
       "AcceptedCmp2           False\n",
       "Complain               False\n",
       "Z_CostContact          False\n",
       "Z_Revenue              False\n",
       "Response               False\n",
       "dtype: bool"
      ]
     },
     "execution_count": 10,
     "metadata": {},
     "output_type": "execute_result"
    }
   ],
   "source": [
    "#CHECKING IF ANY NAN IS PRESENT IN COLUMN OR NOT....\n",
    "df.isna().any()"
   ]
  },
  {
   "cell_type": "code",
   "execution_count": 11,
   "id": "f1fe9a6c",
   "metadata": {},
   "outputs": [
    {
     "data": {
      "text/html": [
       "<div>\n",
       "<style scoped>\n",
       "    .dataframe tbody tr th:only-of-type {\n",
       "        vertical-align: middle;\n",
       "    }\n",
       "\n",
       "    .dataframe tbody tr th {\n",
       "        vertical-align: top;\n",
       "    }\n",
       "\n",
       "    .dataframe thead th {\n",
       "        text-align: right;\n",
       "    }\n",
       "</style>\n",
       "<table border=\"1\" class=\"dataframe\">\n",
       "  <thead>\n",
       "    <tr style=\"text-align: right;\">\n",
       "      <th></th>\n",
       "      <th>ID</th>\n",
       "      <th>Year_Birth</th>\n",
       "      <th>Education</th>\n",
       "      <th>Marital_Status</th>\n",
       "      <th>Income</th>\n",
       "      <th>Kidhome</th>\n",
       "      <th>Teenhome</th>\n",
       "      <th>Dt_Customer</th>\n",
       "      <th>Recency</th>\n",
       "      <th>MntWines</th>\n",
       "      <th>...</th>\n",
       "      <th>NumWebVisitsMonth</th>\n",
       "      <th>AcceptedCmp3</th>\n",
       "      <th>AcceptedCmp4</th>\n",
       "      <th>AcceptedCmp5</th>\n",
       "      <th>AcceptedCmp1</th>\n",
       "      <th>AcceptedCmp2</th>\n",
       "      <th>Complain</th>\n",
       "      <th>Z_CostContact</th>\n",
       "      <th>Z_Revenue</th>\n",
       "      <th>Response</th>\n",
       "    </tr>\n",
       "  </thead>\n",
       "  <tbody>\n",
       "  </tbody>\n",
       "</table>\n",
       "<p>0 rows × 29 columns</p>\n",
       "</div>"
      ],
      "text/plain": [
       "Empty DataFrame\n",
       "Columns: [ID, Year_Birth, Education, Marital_Status, Income, Kidhome, Teenhome, Dt_Customer, Recency, MntWines, MntFruits, MntMeatProducts, MntFishProducts, MntSweetProducts, MntGoldProds, NumDealsPurchases, NumWebPurchases, NumCatalogPurchases, NumStorePurchases, NumWebVisitsMonth, AcceptedCmp3, AcceptedCmp4, AcceptedCmp5, AcceptedCmp1, AcceptedCmp2, Complain, Z_CostContact, Z_Revenue, Response]\n",
       "Index: []\n",
       "\n",
       "[0 rows x 29 columns]"
      ]
     },
     "execution_count": 11,
     "metadata": {},
     "output_type": "execute_result"
    }
   ],
   "source": [
    "#Detect for duplicate values \n",
    "df[df.duplicated()]"
   ]
  },
  {
   "cell_type": "code",
   "execution_count": null,
   "id": "c3acc2fd",
   "metadata": {},
   "outputs": [],
   "source": [
    "#FINDING THE NUMBER OF UNIQUE VALUES PRESENT IN EACH COLUMN...\n",
    "df.nunique()"
   ]
  },
  {
   "cell_type": "code",
   "execution_count": null,
   "id": "4b9581e3",
   "metadata": {},
   "outputs": [],
   "source": [
    "#CHECKING NUMBER OF UNIQUE CATEGORIES PRESENT IN THE \"Year_Birth\"\n",
    "print(\"Unique categories present in the Year_Birth:\",df[\"Year_Birth\"].value_counts())"
   ]
  },
  {
   "cell_type": "code",
   "execution_count": null,
   "id": "21e8ba4f",
   "metadata": {},
   "outputs": [],
   "source": [
    "df['Education'].unique()"
   ]
  },
  {
   "cell_type": "code",
   "execution_count": null,
   "id": "3eac0c01",
   "metadata": {},
   "outputs": [],
   "source": [
    "#Data Preparation\n",
    "#create some new features in the dataset to define the customer personalities\n",
    "\n",
    "# find the age of customer \n",
    "df['Age']=2014-df['Year_Birth']"
   ]
  },
  {
   "cell_type": "code",
   "execution_count": null,
   "id": "ae5b18a9",
   "metadata": {},
   "outputs": [],
   "source": [
    "#Spending variable creation\n",
    "df['Spending']=df['MntWines']+df['MntFruits']+df['MntMeatProducts']+df['MntFishProducts']+df['MntSweetProducts']+df['MntGoldProds']"
   ]
  },
  {
   "cell_type": "code",
   "execution_count": null,
   "id": "ee3dad19",
   "metadata": {},
   "outputs": [],
   "source": [
    "#Seniority variable creation\n",
    "last_date = date(2014,10, 4)"
   ]
  },
  {
   "cell_type": "code",
   "execution_count": null,
   "id": "93d3b1ec",
   "metadata": {},
   "outputs": [],
   "source": [
    "df['Seniority']=pd.to_datetime(df['Dt_Customer'], dayfirst=True,format = '%d-%m-%Y')"
   ]
  },
  {
   "cell_type": "code",
   "execution_count": null,
   "id": "2437fca0",
   "metadata": {},
   "outputs": [],
   "source": [
    "df['Seniority'] = pd.to_numeric(df['Seniority'].dt.date.apply(lambda x: (last_date - x)).dt.days, downcast='integer')/30"
   ]
  },
  {
   "cell_type": "code",
   "execution_count": null,
   "id": "a4a5d0a5",
   "metadata": {},
   "outputs": [],
   "source": [
    "df=df.rename(columns={'NumWebPurchases': \"Web\",'NumCatalogPurchases':'Catalog','NumStorePurchases':'Store'})"
   ]
  },
  {
   "cell_type": "code",
   "execution_count": null,
   "id": "5d6ee40f",
   "metadata": {},
   "outputs": [],
   "source": [
    "df['Marital_Status']=df['Marital_Status'].replace({'Divorced':'Alone','Single':'Alone','Married':'In couple','Together':'In couple','Absurd':'Alone','Widow':'Alone','YOLO':'Alone'})"
   ]
  },
  {
   "cell_type": "code",
   "execution_count": null,
   "id": "8471b698",
   "metadata": {},
   "outputs": [],
   "source": [
    "df['Education']=df['Education'].replace({'Basic':'Undergraduate','2n Cycle':'Undergraduate','Graduation':'Postgraduate','Master':'Postgraduate','PhD':'Postgraduate'})"
   ]
  },
  {
   "cell_type": "code",
   "execution_count": null,
   "id": "ba7c34ca",
   "metadata": {},
   "outputs": [],
   "source": [
    "df['Children']=df['Kidhome']+df['Teenhome']"
   ]
  },
  {
   "cell_type": "code",
   "execution_count": null,
   "id": "4cf848b4",
   "metadata": {},
   "outputs": [],
   "source": [
    "df['Has_child'] = np.where(df.Children> 0, 'Has child', 'No child')"
   ]
  },
  {
   "cell_type": "code",
   "execution_count": null,
   "id": "0e2ce6df",
   "metadata": {},
   "outputs": [],
   "source": [
    "df['Children'].replace({3: \"3 children\",2:'2 children',1:'1 child',0:\"No child\"},inplace=True)"
   ]
  },
  {
   "cell_type": "code",
   "execution_count": null,
   "id": "b4639923",
   "metadata": {},
   "outputs": [],
   "source": [
    "df=df.rename(columns={'MntWines': \"Wines\",'MntFruits':'Fruits','MntMeatProducts':'Meat','MntFishProducts':'Fish','MntSweetProducts':'Sweets','MntGoldProds':'Gold'})"
   ]
  },
  {
   "cell_type": "code",
   "execution_count": null,
   "id": "e6cb43f3",
   "metadata": {},
   "outputs": [],
   "source": [
    "df=df[['Age','Education','Marital_Status','Income','Spending','Seniority','Has_child','Children','Wines','Fruits','Meat','Fish','Sweets','Gold']]\n",
    "df.head()"
   ]
  },
  {
   "cell_type": "code",
   "execution_count": null,
   "id": "42dc3b6a",
   "metadata": {},
   "outputs": [],
   "source": [
    "df['Income'].min()"
   ]
  },
  {
   "cell_type": "code",
   "execution_count": null,
   "id": "bdf8d576",
   "metadata": {},
   "outputs": [],
   "source": [
    "df['Income'].max()"
   ]
  },
  {
   "cell_type": "code",
   "execution_count": null,
   "id": "7336a8e4",
   "metadata": {},
   "outputs": [],
   "source": [
    "plt.boxplot(df['Income'])"
   ]
  },
  {
   "cell_type": "code",
   "execution_count": null,
   "id": "598057d5",
   "metadata": {},
   "outputs": [],
   "source": [
    "df=df.dropna(subset=['Income'])\n",
    "df=df[df['Income']<600000]"
   ]
  },
  {
   "cell_type": "code",
   "execution_count": null,
   "id": "235c9127",
   "metadata": {},
   "outputs": [],
   "source": [
    "#Normalize the data\n",
    "scaler=StandardScaler()\n",
    "df_temp=df[['Income','Seniority','Spending']]\n",
    "X_std=scaler.fit_transform(df_temp)\n",
    "X = normalize(X_std,norm='l2')\n"
   ]
  },
  {
   "cell_type": "code",
   "execution_count": null,
   "id": "e0bf22af",
   "metadata": {},
   "outputs": [],
   "source": [
    "gmm=GaussianMixture(n_components=4, covariance_type='spherical',max_iter=2000, random_state=5).fit(X)\n",
    "labels = gmm.predict(X)\n",
    "df_temp['Cluster'] = labels\n",
    "df_temp=df_temp.replace({0:'Stars',1:'Need attention',2:'High potential',3:'Leaky bucket'})\n",
    "df = df.merge(df_temp.Cluster, left_index=True, right_index=True)"
   ]
  },
  {
   "cell_type": "code",
   "execution_count": null,
   "id": "9312748e",
   "metadata": {},
   "outputs": [],
   "source": [
    "pd.options.display.float_format = \"{:.0f}\".format\n",
    "summary=df[['Income','Spending','Seniority','Cluster']]\n",
    "summary.set_index(\"Cluster\", inplace = True)\n",
    "summary=summary.groupby('Cluster').describe().transpose()\n",
    "summary.head()"
   ]
  },
  {
   "cell_type": "code",
   "execution_count": null,
   "id": "101b320b",
   "metadata": {},
   "outputs": [],
   "source": [
    "#Plot this data to have a look at the clustering of customers\n",
    "PLOT = go.Figure()\n",
    "for C in list(df.Cluster.unique()):\n",
    "    PLOT.add_trace(go.Scatter3d(x = df[df.Cluster == C]['Income'],\n",
    "                                y = df[df.Cluster == C]['Seniority'],\n",
    "                                z = df[df.Cluster == C]['Spending'],                        \n",
    "                                mode = 'markers',marker_size = 6, marker_line_width = 1,\n",
    "                                name = str(C)))\n",
    "PLOT.update_traces(hovertemplate='Income: %{x} <br>Seniority: %{y} <br>Spending: %{z}')\n",
    "\n",
    "PLOT.update_layout(width = 800, height = 800, autosize = True, showlegend = True,\n",
    "                   scene = dict(xaxis=dict(title = 'Income', titlefont_color = 'black'),\n",
    "                                yaxis=dict(title = 'Seniority', titlefont_color = 'black'),\n",
    "                                zaxis=dict(title = 'Spending', titlefont_color = 'black')),\n",
    "                   font = dict(family = \"Gilroy\", color  = 'black', size = 12))"
   ]
  },
  {
   "cell_type": "code",
   "execution_count": null,
   "id": "0f784d2d",
   "metadata": {},
   "outputs": [],
   "source": [
    "#Prepare Data for Cusotmer Personality Analysis\n",
    "#Define three segments of the customers according to the age, income and seniority\n",
    "#Create Age segment\n",
    "cut_labels_Age = ['Young', 'Adult', 'Mature', 'Senior']\n",
    "cut_bins = [0, 30, 45, 65, 120]"
   ]
  },
  {
   "cell_type": "code",
   "execution_count": null,
   "id": "f719395e",
   "metadata": {},
   "outputs": [],
   "source": [
    "df['Age_group'] = pd.cut(df['Age'], bins=cut_bins, labels=cut_labels_Age)"
   ]
  },
  {
   "cell_type": "code",
   "execution_count": null,
   "id": "820e1ca5",
   "metadata": {},
   "outputs": [],
   "source": [
    "#Create Income segment\n",
    "cut_labels_Income = ['Low income', 'Low to medium income', 'Medium to high income', 'High income']"
   ]
  },
  {
   "cell_type": "code",
   "execution_count": null,
   "id": "d3d40050",
   "metadata": {},
   "outputs": [],
   "source": [
    "df['Income_group'] = pd.qcut(df['Income'], q=4, labels=cut_labels_Income)"
   ]
  },
  {
   "cell_type": "code",
   "execution_count": null,
   "id": "abc8587c",
   "metadata": {},
   "outputs": [],
   "source": [
    "#Create Seniority segment\n",
    "cut_labels_Seniority = ['New customers', 'Discovering customers', 'Experienced customers', 'Old customers']"
   ]
  },
  {
   "cell_type": "code",
   "execution_count": null,
   "id": "91d97800",
   "metadata": {},
   "outputs": [],
   "source": [
    "df['Seniority_group'] = pd.qcut(df['Seniority'], q=4, labels=cut_labels_Seniority)\n",
    "df=df.drop(columns=['Age','Income','Seniority'])"
   ]
  },
  {
   "cell_type": "code",
   "execution_count": null,
   "id": "ca0ecea2",
   "metadata": {},
   "outputs": [],
   "source": [
    "#Define new segments according to the spending of customers on each product which will be based on:\n",
    "1. Non Buyer\n",
    "2.Low Buyer\n",
    "3.Frequent Buyer\n",
    "4.Biggest Buyer"
   ]
  },
  {
   "cell_type": "code",
   "execution_count": null,
   "id": "726c92ed",
   "metadata": {},
   "outputs": [],
   "source": [
    "cut_labels = ['Low consumer', 'Frequent consumer', 'Biggest consumer']"
   ]
  },
  {
   "cell_type": "code",
   "execution_count": null,
   "id": "fc527e23",
   "metadata": {},
   "outputs": [],
   "source": [
    "df['Wines_segment'] = pd.qcut(df['Wines'][df['Wines']>0],q=[0, .25, .75, 1], labels=cut_labels).astype(\"object\")"
   ]
  },
  {
   "cell_type": "code",
   "execution_count": null,
   "id": "032da255",
   "metadata": {},
   "outputs": [],
   "source": [
    "df['Fruits_segment'] = pd.qcut(df['Fruits'][df['Fruits']>0],q=[0, .25, .75, 1], labels=cut_labels).astype(\"object\")"
   ]
  },
  {
   "cell_type": "code",
   "execution_count": null,
   "id": "6f57727a",
   "metadata": {},
   "outputs": [],
   "source": [
    "df['Meat_segment'] = pd.qcut(df['Meat'][df['Meat']>0],q=[0, .25, .75, 1], labels=cut_labels).astype(\"object\")"
   ]
  },
  {
   "cell_type": "code",
   "execution_count": null,
   "id": "f6316747",
   "metadata": {},
   "outputs": [],
   "source": [
    "df['Fish_segment'] = pd.qcut(df['Fish'][df['Fish']>0],q=[0, .25, .75, 1], labels=cut_labels).astype(\"object\")"
   ]
  },
  {
   "cell_type": "code",
   "execution_count": null,
   "id": "003f45b9",
   "metadata": {},
   "outputs": [],
   "source": [
    "df['Sweets_segment'] = pd.qcut(df['Sweets'][df['Sweets']>0],q=[0, .25, .75, 1], labels=cut_labels).astype(\"object\")"
   ]
  },
  {
   "cell_type": "code",
   "execution_count": null,
   "id": "e855acd3",
   "metadata": {},
   "outputs": [],
   "source": [
    "df['Gold_segment'] = pd.qcut(df['Gold'][df['Gold']>0],q=[0, .25, .75, 1], labels=cut_labels).astype(\"object\")"
   ]
  },
  {
   "cell_type": "code",
   "execution_count": null,
   "id": "02ae3737",
   "metadata": {},
   "outputs": [],
   "source": [
    "df.replace(np.nan, \"Non consumer\",inplace=True)"
   ]
  },
  {
   "cell_type": "code",
   "execution_count": null,
   "id": "bd159d3e",
   "metadata": {},
   "outputs": [],
   "source": [
    "df.drop(columns=['Spending','Wines','Fruits','Meat','Fish','Sweets','Gold'],inplace=True)\n",
    "df = df.astype(object)"
   ]
  },
  {
   "cell_type": "code",
   "execution_count": null,
   "id": "0e678b87",
   "metadata": {},
   "outputs": [],
   "source": [
    "#Use this algorithm to identify the biggest customer of wines\n",
    "pd.set_option('display.max_columns', None)\n",
    "pd.set_option('display.max_rows', None)\n",
    "pd.set_option('display.max_colwidth', 999)\n",
    "pd.options.display.float_format = \"{:.3f}\".format\n",
    "association=df.copy() \n",
    "df1 = pd.get_dummies(association)\n",
    "min_support = 0.08\n",
    "max_len = 10\n",
    "frequent_items = apriori(df1, use_colnames=True, min_support=min_support, max_len=max_len + 1)\n",
    "rules = association_rules(frequent_items, metric='lift', min_threshold=1)\n",
    "\n",
    "product='Wines'\n",
    "segment='Biggest consumer'\n",
    "target = '{\\'%s_segment_%s\\'}' %(product,segment)\n",
    "results_personnal_care = rules[rules['consequents'].astype(str).str.contains(target, na=False)].sort_values(by='confidence', ascending=False)\n",
    "results_personnal_care.head()"
   ]
  },
  {
   "cell_type": "markdown",
   "id": "9c65a8c2",
   "metadata": {},
   "source": [
    "# Observations:\n",
    "The biggest customers of wines are:\n",
    "\n",
    "1. Customers with an average income of around $69,500.\n",
    "2. Customers with an average total spend of approximately $1,252.\n",
    "3. Customers registered with the company for approximately 21 months.\n",
    "4. Customers with a graduate degree.\n",
    "5. And customers who are also heavy consumers of meat products."
   ]
  }
 ],
 "metadata": {
  "kernelspec": {
   "display_name": "Python 3 (ipykernel)",
   "language": "python",
   "name": "python3"
  },
  "language_info": {
   "codemirror_mode": {
    "name": "ipython",
    "version": 3
   },
   "file_extension": ".py",
   "mimetype": "text/x-python",
   "name": "python",
   "nbconvert_exporter": "python",
   "pygments_lexer": "ipython3",
   "version": "3.9.13"
  }
 },
 "nbformat": 4,
 "nbformat_minor": 5
}
